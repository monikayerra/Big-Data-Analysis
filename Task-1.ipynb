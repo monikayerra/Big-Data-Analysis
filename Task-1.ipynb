{
  "nbformat": 4,
  "nbformat_minor": 0,
  "metadata": {
    "colab": {
      "provenance": []
    },
    "kernelspec": {
      "name": "python3",
      "display_name": "Python 3"
    },
    "language_info": {
      "name": "python"
    }
  },
  "cells": [
    {
      "cell_type": "markdown",
      "source": [
        "\n",
        "Step-1: Install PySpark"
      ],
      "metadata": {
        "id": "Ke-sUqRqh5NR"
      }
    },
    {
      "cell_type": "code",
      "source": [
        "# Install PySpark\n",
        "!pip install pyspark"
      ],
      "metadata": {
        "colab": {
          "base_uri": "https://localhost:8080/"
        },
        "id": "28yYg_IIh0ws",
        "outputId": "5d19cf0f-426f-409c-a05c-9bdab58b4ebd"
      },
      "execution_count": 3,
      "outputs": [
        {
          "output_type": "stream",
          "name": "stdout",
          "text": [
            "Requirement already satisfied: pyspark in /usr/local/lib/python3.11/dist-packages (3.5.1)\n",
            "Requirement already satisfied: py4j==0.10.9.7 in /usr/local/lib/python3.11/dist-packages (from pyspark) (0.10.9.7)\n"
          ]
        }
      ]
    },
    {
      "cell_type": "code",
      "source": [
        "from pyspark.sql import SparkSession\n",
        "from pyspark.sql.functions import col, hour, dayofweek, count, avg"
      ],
      "metadata": {
        "id": "OACs5jnljdvq"
      },
      "execution_count": 5,
      "outputs": []
    },
    {
      "cell_type": "markdown",
      "source": [
        "Step-2: Download the Dataset"
      ],
      "metadata": {
        "id": "fCHQZVCqi3gJ"
      }
    },
    {
      "cell_type": "code",
      "source": [
        "# Download the Excel dataset\n",
        "!wget https://archive.ics.uci.edu/ml/machine-learning-databases/00352/Online%20Retail.xlsx -O Online_Retail.xlsx"
      ],
      "metadata": {
        "colab": {
          "base_uri": "https://localhost:8080/"
        },
        "id": "1h21yEfElFYe",
        "outputId": "cf203222-6022-42c9-df3b-f5c03b38689b"
      },
      "execution_count": 13,
      "outputs": [
        {
          "output_type": "stream",
          "name": "stdout",
          "text": [
            "--2025-06-10 06:46:11--  https://archive.ics.uci.edu/ml/machine-learning-databases/00352/Online%20Retail.xlsx\n",
            "Resolving archive.ics.uci.edu (archive.ics.uci.edu)... 128.195.10.252\n",
            "Connecting to archive.ics.uci.edu (archive.ics.uci.edu)|128.195.10.252|:443... connected.\n",
            "HTTP request sent, awaiting response... 200 OK\n",
            "Length: unspecified\n",
            "Saving to: ‘Online_Retail.xlsx’\n",
            "\n",
            "Online_Retail.xlsx      [  <=>               ]  22.62M  72.6MB/s    in 0.3s    \n",
            "\n",
            "2025-06-10 06:46:11 (72.6 MB/s) - ‘Online_Retail.xlsx’ saved [23715344]\n",
            "\n"
          ]
        }
      ]
    },
    {
      "cell_type": "markdown",
      "source": [
        "Step-3: Install openpyxl to read Excel file"
      ],
      "metadata": {
        "id": "BRKWXmAEl11Z"
      }
    },
    {
      "cell_type": "code",
      "source": [
        "!pip install openpyxl pandas"
      ],
      "metadata": {
        "colab": {
          "base_uri": "https://localhost:8080/"
        },
        "id": "jtTbHHw6mHnZ",
        "outputId": "ca164a09-caf6-4b5f-ae98-be4a3f42177c"
      },
      "execution_count": 14,
      "outputs": [
        {
          "output_type": "stream",
          "name": "stdout",
          "text": [
            "Requirement already satisfied: openpyxl in /usr/local/lib/python3.11/dist-packages (3.1.5)\n",
            "Requirement already satisfied: pandas in /usr/local/lib/python3.11/dist-packages (2.2.2)\n",
            "Requirement already satisfied: et-xmlfile in /usr/local/lib/python3.11/dist-packages (from openpyxl) (2.0.0)\n",
            "Requirement already satisfied: numpy>=1.23.2 in /usr/local/lib/python3.11/dist-packages (from pandas) (2.0.2)\n",
            "Requirement already satisfied: python-dateutil>=2.8.2 in /usr/local/lib/python3.11/dist-packages (from pandas) (2.9.0.post0)\n",
            "Requirement already satisfied: pytz>=2020.1 in /usr/local/lib/python3.11/dist-packages (from pandas) (2025.2)\n",
            "Requirement already satisfied: tzdata>=2022.7 in /usr/local/lib/python3.11/dist-packages (from pandas) (2025.2)\n",
            "Requirement already satisfied: six>=1.5 in /usr/local/lib/python3.11/dist-packages (from python-dateutil>=2.8.2->pandas) (1.17.0)\n"
          ]
        }
      ]
    },
    {
      "cell_type": "markdown",
      "source": [
        "Step-4: Convert Excel to CSV using Pandas"
      ],
      "metadata": {
        "id": "Le2SnsqSmO3i"
      }
    },
    {
      "cell_type": "code",
      "source": [
        "import pandas as pd\n",
        "\n",
        "# Read Excel and save as CSV\n",
        "df_excel = pd.read_excel(\"Online_Retail.xlsx\")\n",
        "df_excel.to_csv(\"Online_Retail.csv\", index=False)"
      ],
      "metadata": {
        "id": "gqmEDLu-mXzU"
      },
      "execution_count": 15,
      "outputs": []
    },
    {
      "cell_type": "markdown",
      "source": [
        "Step-5: Start Spark Session and Load CSV"
      ],
      "metadata": {
        "id": "loFJdVEWmgUj"
      }
    },
    {
      "cell_type": "code",
      "source": [
        "from pyspark.sql import SparkSession\n",
        "from pyspark.sql.functions import col, sum, count, desc\n",
        "\n",
        "# Initialize Spark session\n",
        "spark = SparkSession.builder.appName(\"Retail Analysis\").getOrCreate()\n",
        "\n",
        "# Load the CSV file\n",
        "df = spark.read.csv(\"Online_Retail.csv\", header=True, inferSchema=True)\n",
        "\n",
        "# Show schema and a few records\n",
        "df.printSchema()\n",
        "df.show(5)"
      ],
      "metadata": {
        "colab": {
          "base_uri": "https://localhost:8080/"
        },
        "id": "1lzPhQEmmmSQ",
        "outputId": "9293037a-fa16-4642-ff74-1c86827e3bb0"
      },
      "execution_count": 16,
      "outputs": [
        {
          "output_type": "stream",
          "name": "stdout",
          "text": [
            "root\n",
            " |-- InvoiceNo: string (nullable = true)\n",
            " |-- StockCode: string (nullable = true)\n",
            " |-- Description: string (nullable = true)\n",
            " |-- Quantity: integer (nullable = true)\n",
            " |-- InvoiceDate: timestamp (nullable = true)\n",
            " |-- UnitPrice: double (nullable = true)\n",
            " |-- CustomerID: double (nullable = true)\n",
            " |-- Country: string (nullable = true)\n",
            "\n",
            "+---------+---------+--------------------+--------+-------------------+---------+----------+--------------+\n",
            "|InvoiceNo|StockCode|         Description|Quantity|        InvoiceDate|UnitPrice|CustomerID|       Country|\n",
            "+---------+---------+--------------------+--------+-------------------+---------+----------+--------------+\n",
            "|   536365|   85123A|WHITE HANGING HEA...|       6|2010-12-01 08:26:00|     2.55|   17850.0|United Kingdom|\n",
            "|   536365|    71053| WHITE METAL LANTERN|       6|2010-12-01 08:26:00|     3.39|   17850.0|United Kingdom|\n",
            "|   536365|   84406B|CREAM CUPID HEART...|       8|2010-12-01 08:26:00|     2.75|   17850.0|United Kingdom|\n",
            "|   536365|   84029G|KNITTED UNION FLA...|       6|2010-12-01 08:26:00|     3.39|   17850.0|United Kingdom|\n",
            "|   536365|   84029E|RED WOOLLY HOTTIE...|       6|2010-12-01 08:26:00|     3.39|   17850.0|United Kingdom|\n",
            "+---------+---------+--------------------+--------+-------------------+---------+----------+--------------+\n",
            "only showing top 5 rows\n",
            "\n"
          ]
        }
      ]
    },
    {
      "cell_type": "markdown",
      "source": [
        "Step-6: Basic Cleaning"
      ],
      "metadata": {
        "id": "7OMaMajemyU_"
      }
    },
    {
      "cell_type": "code",
      "source": [
        "# Remove rows with nulls in critical fields\n",
        "df_clean = df.dropna(subset=[\"InvoiceNo\", \"StockCode\", \"Description\", \"Quantity\", \"InvoiceDate\", \"UnitPrice\", \"CustomerID\", \"Country\"])\n",
        "\n",
        "# Filter out cancellations (invoices with 'C' usually indicate canceled orders)\n",
        "df_clean = df_clean.filter(~df_clean[\"InvoiceNo\"].startswith(\"C\"))"
      ],
      "metadata": {
        "id": "Fq1RxlFLmrJd"
      },
      "execution_count": 17,
      "outputs": []
    },
    {
      "cell_type": "markdown",
      "source": [
        "Step-7: Add Total Price Column"
      ],
      "metadata": {
        "id": "Hxdux15Gm7m1"
      }
    },
    {
      "cell_type": "code",
      "source": [
        "# Add a new column 'TotalPrice' = Quantity * UnitPrice\n",
        "df_clean = df_clean.withColumn(\"TotalPrice\", col(\"Quantity\") * col(\"UnitPrice\"))"
      ],
      "metadata": {
        "id": "YL7dI4mqm5_u"
      },
      "execution_count": 18,
      "outputs": []
    },
    {
      "cell_type": "markdown",
      "source": [
        "Step-8: Top 10 Countries by Revenue"
      ],
      "metadata": {
        "id": "EjKKBjABnMfF"
      }
    },
    {
      "cell_type": "code",
      "source": [
        "# Group by country and sum total price\n",
        "country_sales = df_clean.groupBy(\"Country\").agg(sum(\"TotalPrice\").alias(\"TotalRevenue\"))\n",
        "\n",
        "# Show top 10 countries by revenue\n",
        "country_sales.orderBy(desc(\"TotalRevenue\")).show(10)"
      ],
      "metadata": {
        "colab": {
          "base_uri": "https://localhost:8080/"
        },
        "id": "gvrUyKhYnKn2",
        "outputId": "889b3a8b-42e4-46a3-8ee4-1d1485905744"
      },
      "execution_count": 19,
      "outputs": [
        {
          "output_type": "stream",
          "name": "stdout",
          "text": [
            "+--------------+------------------+\n",
            "|       Country|      TotalRevenue|\n",
            "+--------------+------------------+\n",
            "|United Kingdom| 7308391.554000224|\n",
            "|   Netherlands| 285446.3399999992|\n",
            "|          EIRE|265545.89999999915|\n",
            "|       Germany|228867.14000000025|\n",
            "|        France|209024.05000000025|\n",
            "|     Australia|138521.30999999976|\n",
            "|         Spain| 61577.11000000017|\n",
            "|   Switzerland| 56443.95000000007|\n",
            "|       Belgium| 41196.34000000001|\n",
            "|        Sweden| 38378.32999999999|\n",
            "+--------------+------------------+\n",
            "only showing top 10 rows\n",
            "\n"
          ]
        }
      ]
    },
    {
      "cell_type": "markdown",
      "source": [
        "Step-9: Top 10 Customers by Spend"
      ],
      "metadata": {
        "id": "zJboMFncnk69"
      }
    },
    {
      "cell_type": "code",
      "source": [
        "top_customers = df_clean.groupBy(\"CustomerID\").agg(sum(\"TotalPrice\").alias(\"CustomerSpend\"))\n",
        "top_customers.orderBy(desc(\"CustomerSpend\")).show(10)"
      ],
      "metadata": {
        "colab": {
          "base_uri": "https://localhost:8080/"
        },
        "id": "YrPXOGq8njCa",
        "outputId": "f5daa35e-969b-461b-ee28-07c5dbcbf1e7"
      },
      "execution_count": 21,
      "outputs": [
        {
          "output_type": "stream",
          "name": "stdout",
          "text": [
            "+----------+------------------+\n",
            "|CustomerID|     CustomerSpend|\n",
            "+----------+------------------+\n",
            "|   14646.0| 280206.0199999994|\n",
            "|   18102.0|259657.29999999996|\n",
            "|   17450.0|194550.78999999995|\n",
            "|   16446.0|          168472.5|\n",
            "|   14911.0|143825.05999999988|\n",
            "|   12415.0| 124914.5299999998|\n",
            "|   14156.0|117379.62999999992|\n",
            "|   17511.0| 91062.37999999989|\n",
            "|   16029.0| 81024.84000000001|\n",
            "|   12346.0|           77183.6|\n",
            "+----------+------------------+\n",
            "only showing top 10 rows\n",
            "\n"
          ]
        }
      ]
    },
    {
      "cell_type": "markdown",
      "source": [
        "Step-10: Most Popular Products(by Quantity Sold)"
      ],
      "metadata": {
        "id": "50dF6abXnuMC"
      }
    },
    {
      "cell_type": "code",
      "source": [
        "popular_products = df_clean.groupBy(\"Description\").agg(sum(\"Quantity\").alias(\"TotalQuantity\"))\n",
        "popular_products.orderBy(desc(\"TotalQuantity\")).show(10, truncate=False)"
      ],
      "metadata": {
        "colab": {
          "base_uri": "https://localhost:8080/"
        },
        "id": "a6tcASw_nsAc",
        "outputId": "361f2957-d4eb-40d4-ac41-032fb72b475e"
      },
      "execution_count": 22,
      "outputs": [
        {
          "output_type": "stream",
          "name": "stdout",
          "text": [
            "+----------------------------------+-------------+\n",
            "|Description                       |TotalQuantity|\n",
            "+----------------------------------+-------------+\n",
            "|PAPER CRAFT , LITTLE BIRDIE       |80995        |\n",
            "|MEDIUM CERAMIC TOP STORAGE JAR    |77916        |\n",
            "|WORLD WAR 2 GLIDERS ASSTD DESIGNS |54415        |\n",
            "|JUMBO BAG RED RETROSPOT           |46181        |\n",
            "|WHITE HANGING HEART T-LIGHT HOLDER|36725        |\n",
            "|ASSORTED COLOUR BIRD ORNAMENT     |35362        |\n",
            "|PACK OF 72 RETROSPOT CAKE CASES   |33693        |\n",
            "|POPCORN HOLDER                    |30931        |\n",
            "|RABBIT NIGHT LIGHT                |27202        |\n",
            "|MINI PAINT SET VINTAGE            |26076        |\n",
            "+----------------------------------+-------------+\n",
            "only showing top 10 rows\n",
            "\n"
          ]
        }
      ]
    },
    {
      "cell_type": "code",
      "source": [],
      "metadata": {
        "id": "oz3NzyWFn6jC"
      },
      "execution_count": null,
      "outputs": []
    }
  ]
}